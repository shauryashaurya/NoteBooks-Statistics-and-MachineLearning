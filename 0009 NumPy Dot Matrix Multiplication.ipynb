{
 "cells": [
  {
   "cell_type": "code",
   "execution_count": null,
   "metadata": {},
   "outputs": [],
   "source": [
    "import numpy as np\n",
    "np.version.full_version"
   ]
  },
  {
   "cell_type": "markdown",
   "metadata": {},
   "source": [
    "## Vector multiplication"
   ]
  },
  {
   "cell_type": "code",
   "execution_count": null,
   "metadata": {},
   "outputs": [],
   "source": [
    "# Multiply two one-dimensional array's\n",
    "# Vector a and b need to be of the same size\n",
    "a = [1, 2, 3]\n",
    "b = [5, 10, 15]\n",
    "\n",
    "# 1*5 + 2*10 + 3*15\n",
    "np.dot(a, b)"
   ]
  },
  {
   "cell_type": "code",
   "execution_count": null,
   "metadata": {},
   "outputs": [],
   "source": [
    "# Vector and matrix multiplication into matrix\n",
    "a = [1, 2]\n",
    "b = [[5, 10], [15, 20]]\n",
    "\n",
    "# 1*5 + 2*15, 1*10 + 2*20\n",
    "np.dot(a, b)"
   ]
  },
  {
   "cell_type": "markdown",
   "metadata": {},
   "source": [
    "## Matrix multiplication"
   ]
  },
  {
   "cell_type": "code",
   "execution_count": null,
   "metadata": {},
   "outputs": [],
   "source": [
    "# Matrix and vector multiplication into matrix\n",
    "a = [[5, 10], [15, 20]]\n",
    "b = [1, 2]\n",
    "\n",
    "# 5*1 + 10*2, 15*1 + 20*2\n",
    "np.dot(a, b)"
   ]
  },
  {
   "cell_type": "code",
   "execution_count": null,
   "metadata": {},
   "outputs": [],
   "source": [
    "# Matrix to matrix multiplication\n",
    "a = [[5, 10], [15, 20], [25, 30]]\n",
    "b = [[1, 2], [3,4]]\n",
    "\n",
    "#  5*1 + 10*3,  5*2 + 10*4\n",
    "# 15*1 + 20*3, 15*2 + 20*4\n",
    "# 25*1 + 30*3, 25*2 + 30*4\n",
    "np.dot(a, b)"
   ]
  },
  {
   "cell_type": "code",
   "execution_count": null,
   "metadata": {},
   "outputs": [],
   "source": [
    "# Matrix to matrix multiplication\n",
    "a = [[1, 2, 3], [4, 5, 6]]\n",
    "b = [[5, 10], [15, 20], [25, 30]]\n",
    "\n",
    "#  1*5 + 2*15 + 3*25, 1*10 + 2*20 + 3*30\n",
    "#  4*5 + 5*15 + 6*25, 4*10 + 5*20 + 6*30\n",
    "np.dot(a, b)"
   ]
  }
 ],
 "metadata": {
  "kernelspec": {
   "display_name": "Python 3",
   "language": "python",
   "name": "python3"
  },
  "language_info": {
   "codemirror_mode": {
    "name": "ipython",
    "version": 3
   },
   "file_extension": ".py",
   "mimetype": "text/x-python",
   "name": "python",
   "nbconvert_exporter": "python",
   "pygments_lexer": "ipython3",
   "version": "3.8.5"
  }
 },
 "nbformat": 4,
 "nbformat_minor": 1
}
