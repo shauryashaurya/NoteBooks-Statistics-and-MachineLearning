{
 "cells": [
  {
   "cell_type": "code",
   "execution_count": null,
   "metadata": {},
   "outputs": [],
   "source": [
    "%matplotlib inline\n",
    "import matplotlib.pyplot as plt\n",
    "import numpy as np\n",
    "import pandas as pd\n",
    "\n",
    "# turn of data table rendering\n",
    "pd.set_option('display.notebook_repr_html', False)\n",
    "plt.style.use('ggplot')\n",
    "pd.__version__"
   ]
  },
  {
   "cell_type": "markdown",
   "metadata": {},
   "source": [
    "## Data"
   ]
  },
  {
   "cell_type": "code",
   "execution_count": null,
   "metadata": {},
   "outputs": [],
   "source": [
    "# The data set contains the top 1000 baby names in the US\n",
    "# for each year from 1880 until 2008\n",
    "names_df = pd.read_csv('data/baby-names2.csv')\n",
    "names_df.head()"
   ]
  },
  {
   "cell_type": "markdown",
   "metadata": {},
   "source": [
    "## Explore the data"
   ]
  },
  {
   "cell_type": "code",
   "execution_count": null,
   "metadata": {},
   "outputs": [],
   "source": [
    "# Get popular names for 1969\n",
    "names_df[names_df.year == 1969].tail()"
   ]
  },
  {
   "cell_type": "code",
   "execution_count": null,
   "metadata": {},
   "outputs": [],
   "source": [
    "# Separate the boys from the girls\n",
    "boys_df = names_df[names_df.sex == 'boy']\n",
    "girls_df = names_df[names_df.sex == 'girl']\n",
    "girls_df.head()"
   ]
  },
  {
   "cell_type": "code",
   "execution_count": null,
   "metadata": {},
   "outputs": [],
   "source": [
    "# Get the number of boy baby name rows per year (showing first 5) \n",
    "boys_df.groupby('year').size().head()"
   ]
  },
  {
   "cell_type": "code",
   "execution_count": null,
   "metadata": {},
   "outputs": [],
   "source": [
    "# Get the hierarchical index of baby name rows per year \n",
    "# grouped by gender for the year 1969\n",
    "names_df.groupby(['year', 'sex']).size().loc[1969]"
   ]
  },
  {
   "cell_type": "code",
   "execution_count": null,
   "metadata": {},
   "outputs": [],
   "source": [
    "# Get the most popular boy name for the year 1969\n",
    "rowid = boys_df[boys_df.year == 1969].prop.idxmax()\n",
    "boys_df.loc[rowid]"
   ]
  },
  {
   "cell_type": "code",
   "execution_count": null,
   "metadata": {},
   "outputs": [],
   "source": [
    "# Apply the get_max_proportion to the whole dataframe\n",
    "# to get the most popular name for each year (showing first 5)\n",
    "def get_max_proportion(group):\n",
    "    return group.loc[group.prop.idxmax()]\n",
    "    \n",
    "popular_boys_df = boys_df.groupby('year').apply(get_max_proportion)\n",
    "popular_boys_df.tail()"
   ]
  },
  {
   "cell_type": "code",
   "execution_count": null,
   "metadata": {},
   "outputs": [],
   "source": [
    "# Plot the proportion of the most popular boy name per year\n",
    "# Maybe showing more diversity in chosen boy names over time\n",
    "popular_boys_df.prop.plot(legend=True, title='Proportion most popular boy name', \n",
    "                          kind='area', color='#00A99D', alpha=.5)"
   ]
  },
  {
   "cell_type": "code",
   "execution_count": null,
   "metadata": {},
   "outputs": [],
   "source": [
    "# Set the index to a name/year combination\n",
    "boys_index_df = boys_df.set_index(['name', 'year'])\n",
    "boys_index_df.head()"
   ]
  },
  {
   "cell_type": "code",
   "execution_count": null,
   "metadata": {},
   "outputs": [],
   "source": [
    "# Narcissistic query for the popularity of my first name\n",
    "leon_popularity = boys_index_df.loc['Leon']\n",
    "leon_popularity.prop.plot(kind='area', color='#00A99D', alpha=.5, \n",
    "                          legend=True, title='Popularity of the name Leon')"
   ]
  },
  {
   "cell_type": "code",
   "execution_count": null,
   "metadata": {},
   "outputs": [],
   "source": [
    "# My name was the most popular in the year...\n",
    "boys_index_df.loc['Leon'].prop.idxmax()"
   ]
  },
  {
   "cell_type": "code",
   "execution_count": null,
   "metadata": {},
   "outputs": [],
   "source": [
    "# Highest boy name proportion ever...\n",
    "boys_index_df.prop.idxmax()"
   ]
  },
  {
   "cell_type": "code",
   "execution_count": null,
   "metadata": {},
   "outputs": [],
   "source": [
    "# Calculate the mean proportion for each girl name in the set\n",
    "# Show first 5 in descending order\n",
    "mean_prop = girls_df.groupby('name')['prop'].mean()\n",
    "\n",
    "mean_prop.sort_values(ascending=False).head()"
   ]
  },
  {
   "cell_type": "code",
   "execution_count": null,
   "metadata": {},
   "outputs": [],
   "source": [
    "# Retrieve summary statistics for each year in the data set\n",
    "result = girls_df.groupby('year').describe()\n",
    "result.head(24)"
   ]
  },
  {
   "cell_type": "markdown",
   "metadata": {},
   "source": [
    "## Calculating Baby Name Diversity"
   ]
  },
  {
   "cell_type": "code",
   "execution_count": null,
   "metadata": {},
   "outputs": [],
   "source": [
    "# Get a single year of girl names and sort by proportion descending\n",
    "girls_df_1972 = girls_df[girls_df.year == 1972]\n",
    "girls_df_1972_sorted = girls_df_1972.sort_values(by='prop', ascending=False)\n",
    "girls_df_1972_sorted.head()\n"
   ]
  },
  {
   "cell_type": "code",
   "execution_count": null,
   "metadata": {},
   "outputs": [],
   "source": [
    "# What is the proportion of this top 1000 girl names of the total names?\n",
    "girls_df_1972_sorted.prop.cumsum().max()"
   ]
  },
  {
   "cell_type": "code",
   "execution_count": null,
   "metadata": {},
   "outputs": [],
   "source": [
    "# Where is the 50% crossover point for cumulative sum\n",
    "girls_df_1972_cumsum = girls_df_1972_sorted.prop.cumsum()\n",
    "print(\"girls_df_1972_cumsum: \")\n",
    "print(girls_df_1972_cumsum)\n",
    "crossover = girls_df_1972_cumsum.searchsorted(.5)\n",
    "print(crossover)\n",
    "# girls_df_1972_cumsum[(crossover[0]-2):(crossover[0]+3)]"
   ]
  },
  {
   "cell_type": "code",
   "execution_count": null,
   "metadata": {},
   "outputs": [],
   "source": [
    "# The crossover can be seen as a meassure of diversity\n",
    "# It's the number of names accounting for 50% of all the names given\n",
    "# So the higher, the more creative name giving\n",
    "crossover[0]"
   ]
  },
  {
   "cell_type": "code",
   "execution_count": null,
   "metadata": {},
   "outputs": [],
   "source": [
    "# Let's calculate this crossover point for boys and girls per year\n",
    "def get_crossover(group, quantile):\n",
    "    df = group.sort_index(by='prop', ascending=False)\n",
    "    return df.prop.cumsum().searchsorted(quantile)[0]\n",
    "\n",
    "q = .5\n",
    "\n",
    "girls_crossover = girls_df.groupby('year').apply(get_crossover, quantile=q)\n",
    "girls_crossover.name = 'girls'\n",
    "\n",
    "boys_crossover = boys_df.groupby('year').apply(get_crossover, quantile=q)\n",
    "boys_crossover.name = 'boys'\n",
    "\n",
    "# Plot the crossover counts over time\n",
    "girls_crossover.plot(kind='area', color='#00A99D', alpha=.5, legend=True)\n",
    "boys_crossover.plot(title='Baby name diversity', kind='area', \n",
    "                    color='#F5CA0C', alpha=.5, legend=True)"
   ]
  },
  {
   "cell_type": "code",
   "execution_count": null,
   "metadata": {},
   "outputs": [],
   "source": []
  }
 ],
 "metadata": {
  "kernelspec": {
   "display_name": "Python 3",
   "language": "python",
   "name": "python3"
  },
  "language_info": {
   "codemirror_mode": {
    "name": "ipython",
    "version": 3
   },
   "file_extension": ".py",
   "mimetype": "text/x-python",
   "name": "python",
   "nbconvert_exporter": "python",
   "pygments_lexer": "ipython3",
   "version": "3.8.5"
  }
 },
 "nbformat": 4,
 "nbformat_minor": 1
}
