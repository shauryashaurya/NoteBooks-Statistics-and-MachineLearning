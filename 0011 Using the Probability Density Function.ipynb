{
 "cells": [
  {
   "cell_type": "code",
   "execution_count": 1,
   "metadata": {},
   "outputs": [
    {
     "data": {
      "text/plain": [
       "'1.18.5'"
      ]
     },
     "execution_count": 1,
     "metadata": {},
     "output_type": "execute_result"
    }
   ],
   "source": [
    "%matplotlib inline\n",
    "import numpy as np\n",
    "import matplotlib.pyplot as plt\n",
    "import seaborn as sns\n",
    "from scipy import stats\n",
    "from __future__ import division\n",
    "\n",
    "sns.set_palette(['#00A99D', '#F5CA0C', '#B6129F', '#76620C', '#095C57'])\n",
    "np.version.full_version"
   ]
  },
  {
   "cell_type": "markdown",
   "metadata": {},
   "source": [
    "## Data"
   ]
  },
  {
   "cell_type": "code",
   "execution_count": 2,
   "metadata": {},
   "outputs": [
    {
     "data": {
      "text/plain": [
       "array([155.33873826, 169.89638645, 232.3814345 , 168.09697478,\n",
       "       168.57110475, 222.15893709, 167.4285738 , 219.38718586,\n",
       "       130.32507026, 192.50722732, 167.97814321, 181.57208686])"
      ]
     },
     "execution_count": 2,
     "metadata": {},
     "output_type": "execute_result"
    }
   ],
   "source": [
    "#We use a fictional data set of 10000 averge number of Facebook friends.\n",
    "facebook_mu = 190.0\n",
    "facebook_sigma = 36.0\n",
    "facebook_friends = np.random.normal(facebook_mu, facebook_sigma, 10000)\n",
    "\n",
    "# show first 12 samples\n",
    "facebook_friends[:12]"
   ]
  },
  {
   "cell_type": "markdown",
   "metadata": {},
   "source": [
    "## Using the Probability Density Function\n",
    "The total area under the Probability Density Function (pdf) is always 1.0. Roughly 68% of the values is within 1 standard deviation from the mean. About 95% falls within two standard deviations. We can determine the probability of finding a given value in the distribution by using the pdf. \n",
    "\n",
    "Let's say someone's got 227 Facebook friends. What is the probability of having this or less number of Facebook friends?"
   ]
  },
  {
   "cell_type": "code",
   "execution_count": 3,
   "metadata": {},
   "outputs": [
    {
     "name": "stderr",
     "output_type": "stream",
     "text": [
      "D:\\1\\a3\\lib\\site-packages\\seaborn\\distributions.py:2551: FutureWarning: `distplot` is a deprecated function and will be removed in a future version. Please adapt your code to use either `displot` (a figure-level function with similar flexibility) or `histplot` (an axes-level function for histograms).\n",
      "  warnings.warn(msg, FutureWarning)\n"
     ]
    },
    {
     "data": {
      "image/png": "[encoded data removed]",
      "text/plain": [
       "<Figure size 432x288 with 1 Axes>"
      ]
     },
     "metadata": {
      "needs_background": "light"
     },
     "output_type": "display_data"
    }
   ],
   "source": [
    "# First take a look at the pdf and especially the green area under\n",
    "# the curve containing the probability of 227 Facebook friends or less.\n",
    "x = 227.0\n",
    "sns.distplot(facebook_friends, label='Facebook friends', kde=False, \n",
    "             fit=stats.norm, color='w')\n",
    "plt.text(x+5, .0003, '$x$='+str(x))\n",
    "\n",
    "x_plot = np.linspace(min(facebook_friends), x, 1000)\n",
    "y_plot = stats.norm.pdf(x_plot, facebook_mu, facebook_sigma)\n",
    "plt.fill_between(x_plot,  y_plot)\n",
    "c=plt.legend()"
   ]
  },
  {
   "cell_type": "code",
   "execution_count": 4,
   "metadata": {},
   "outputs": [
    {
     "data": {
      "text/plain": [
       "1.0277777777777777"
      ]
     },
     "execution_count": 4,
     "metadata": {},
     "output_type": "execute_result"
    }
   ],
   "source": [
    "# To calculate the probability, we need the z score.\n",
    "zscore = (x - facebook_mu) / facebook_sigma\n",
    "zscore"
   ]
  },
  {
   "cell_type": "code",
   "execution_count": 5,
   "metadata": {},
   "outputs": [
    {
     "data": {
      "text/plain": [
       "0.8479728141176333"
      ]
     },
     "execution_count": 5,
     "metadata": {},
     "output_type": "execute_result"
    }
   ],
   "source": [
    "# Calculate the probability by calling stats.norm.cdf\n",
    "# This is a computational z table lookup\n",
    "p = stats.norm.cdf(zscore)\n",
    "p"
   ]
  },
  {
   "cell_type": "markdown",
   "metadata": {},
   "source": [
    "So this means the probability of people having 227 Facebook friends or less is about 85%. Since the area under the curve adds up to 1, we can say that the probability of people having a value more than 227 Facebook friends is $1-p$."
   ]
  },
  {
   "cell_type": "code",
   "execution_count": 6,
   "metadata": {},
   "outputs": [
    {
     "data": {
      "text/plain": [
       "0.15202718588236674"
      ]
     },
     "execution_count": 6,
     "metadata": {},
     "output_type": "execute_result"
    }
   ],
   "source": [
    "# Probability of having a value more than 227\n",
    "1 - p"
   ]
  },
  {
   "cell_type": "markdown",
   "metadata": {},
   "source": [
    "## From probability back to the actual value\n",
    "Let's assume we have a 21% chance of having a certain number of Facebook friends or more. What is the minimum number of Facebook friends we have in this case?"
   ]
  },
  {
   "cell_type": "code",
   "execution_count": 7,
   "metadata": {},
   "outputs": [
    {
     "data": {
      "text/plain": [
       "0.8064212470182404"
      ]
     },
     "execution_count": 7,
     "metadata": {},
     "output_type": "execute_result"
    }
   ],
   "source": [
    "# We use the ppf function (inverse cdf) - from probability to z score\n",
    "p = 1 - .21\n",
    "z = stats.norm.ppf(p)\n",
    "z"
   ]
  },
  {
   "cell_type": "code",
   "execution_count": 8,
   "metadata": {},
   "outputs": [
    {
     "data": {
      "text/plain": [
       "219.03116489265665"
      ]
     },
     "execution_count": 8,
     "metadata": {},
     "output_type": "execute_result"
    }
   ],
   "source": [
    "# From z score to number of Facebook friends\n",
    "x = z * facebook_sigma + facebook_mu\n",
    "x"
   ]
  },
  {
   "cell_type": "code",
   "execution_count": 9,
   "metadata": {},
   "outputs": [
    {
     "name": "stderr",
     "output_type": "stream",
     "text": [
      "D:\\1\\a3\\lib\\site-packages\\seaborn\\distributions.py:2551: FutureWarning: `distplot` is a deprecated function and will be removed in a future version. Please adapt your code to use either `displot` (a figure-level function with similar flexibility) or `histplot` (an axes-level function for histograms).\n",
      "  warnings.warn(msg, FutureWarning)\n"
     ]
    },
    {
     "data": {
      "image/png": "[encoded data removed]",
      "text/plain": [
       "<Figure size 432x288 with 1 Axes>"
      ]
     },
     "metadata": {
      "needs_background": "light"
     },
     "output_type": "display_data"
    }
   ],
   "source": [
    "# The green area under the curve containing the probability \n",
    "# of (roughly) 206 Facebook friends or more.\n",
    "sns.distplot(facebook_friends, label='Facebook friends', kde=False, \n",
    "             fit=stats.norm, color='w')\n",
    "plt.text(x+5, .0003, '$x$='+str(int(x)))\n",
    "\n",
    "x_plot = np.linspace(x, max(facebook_friends), 1000)\n",
    "y_plot = stats.norm.pdf(x_plot, facebook_mu, facebook_sigma)\n",
    "plt.fill_between(x_plot,  y_plot)\n",
    "c=plt.legend()"
   ]
  },
  {
   "cell_type": "markdown",
   "metadata": {},
   "source": [
    "## Calculate probability in between two values\n",
    "What is the probability of people having between 120 and 170 Facebook friends?"
   ]
  },
  {
   "cell_type": "code",
   "execution_count": 10,
   "metadata": {},
   "outputs": [
    {
     "name": "stderr",
     "output_type": "stream",
     "text": [
      "D:\\1\\a3\\lib\\site-packages\\seaborn\\distributions.py:2551: FutureWarning: `distplot` is a deprecated function and will be removed in a future version. Please adapt your code to use either `displot` (a figure-level function with similar flexibility) or `histplot` (an axes-level function for histograms).\n",
      "  warnings.warn(msg, FutureWarning)\n"
     ]
    },
    {
     "data": {
      "image/png": "[encoded data removed]",
      "text/plain": [
       "<Figure size 432x288 with 1 Axes>"
      ]
     },
     "metadata": {
      "needs_background": "light"
     },
     "output_type": "display_data"
    }
   ],
   "source": [
    "# We want to know the proportion of the green area under the curve.\n",
    "x1 = 120.0\n",
    "x2 = 170.0\n",
    "sns.distplot(facebook_friends, label='Facebook friends', kde=False, \n",
    "             fit=stats.norm, color='w')\n",
    "plt.text(x1+5, .0003, '$x_1$='+str(x1))\n",
    "plt.text(x2+5, .0003, '$x_2$='+str(x2))\n",
    "\n",
    "x_plot = np.linspace(x1, x2, 1000)\n",
    "y_plot = stats.norm.pdf(x_plot, facebook_mu, facebook_sigma)\n",
    "plt.fill_between(x_plot,  y_plot)\n",
    "c=plt.legend()"
   ]
  },
  {
   "cell_type": "code",
   "execution_count": 11,
   "metadata": {},
   "outputs": [
    {
     "data": {
      "text/plain": [
       "-1.9444444444444444"
      ]
     },
     "execution_count": 11,
     "metadata": {},
     "output_type": "execute_result"
    }
   ],
   "source": [
    "# First we need the z score of x1\n",
    "z1 = (x1 - facebook_mu) / facebook_sigma\n",
    "z1"
   ]
  },
  {
   "cell_type": "code",
   "execution_count": 12,
   "metadata": {},
   "outputs": [
    {
     "data": {
      "text/plain": [
       "0.025920939357843"
      ]
     },
     "execution_count": 12,
     "metadata": {},
     "output_type": "execute_result"
    }
   ],
   "source": [
    "# Then we calculate the probability for value x1 or less\n",
    "p1 = stats.norm.cdf(z1)\n",
    "p1"
   ]
  },
  {
   "cell_type": "code",
   "execution_count": 13,
   "metadata": {},
   "outputs": [
    {
     "data": {
      "text/plain": [
       "-0.5555555555555556"
      ]
     },
     "execution_count": 13,
     "metadata": {},
     "output_type": "execute_result"
    }
   ],
   "source": [
    "# Now we calculate the z score for x2\n",
    "z2 = (x2 - facebook_mu) / facebook_sigma\n",
    "z2"
   ]
  },
  {
   "cell_type": "code",
   "execution_count": 14,
   "metadata": {},
   "outputs": [
    {
     "data": {
      "text/plain": [
       "0.28925736075397196"
      ]
     },
     "execution_count": 14,
     "metadata": {},
     "output_type": "execute_result"
    }
   ],
   "source": [
    "# and agian the probabilty for value x2 or less\n",
    "p2 = stats.norm.cdf(z2)\n",
    "p2"
   ]
  },
  {
   "cell_type": "code",
   "execution_count": 15,
   "metadata": {},
   "outputs": [
    {
     "data": {
      "text/plain": [
       "0.26333642139612895"
      ]
     },
     "execution_count": 15,
     "metadata": {},
     "output_type": "execute_result"
    }
   ],
   "source": [
    "# So the probability of having between x1 and x2 Facebook friends is\n",
    "# the probability having x2 minus the probability having x1\n",
    "p2 - p1"
   ]
  }
 ],
 "metadata": {
  "kernelspec": {
   "display_name": "Python 3",
   "language": "python",
   "name": "python3"
  },
  "language_info": {
   "codemirror_mode": {
    "name": "ipython",
    "version": 3
   },
   "file_extension": ".py",
   "mimetype": "text/x-python",
   "name": "python",
   "nbconvert_exporter": "python",
   "pygments_lexer": "ipython3",
   "version": "3.8.5"
  }
 },
 "nbformat": 4,
 "nbformat_minor": 1
}
